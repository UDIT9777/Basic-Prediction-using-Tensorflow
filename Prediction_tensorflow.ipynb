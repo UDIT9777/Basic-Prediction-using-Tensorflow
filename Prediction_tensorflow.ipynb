{
  "nbformat": 4,
  "nbformat_minor": 0,
  "metadata": {
    "colab": {
      "name": "Hello world tensorflow.ipynb",
      "provenance": [],
      "toc_visible": true,
      "authorship_tag": "ABX9TyOQYCOsgRKfFgOJgw1rYtV1",
      "include_colab_link": true
    },
    "kernelspec": {
      "name": "python3",
      "display_name": "Python 3"
    }
  },
  "cells": [
    {
      "cell_type": "markdown",
      "metadata": {
        "id": "view-in-github",
        "colab_type": "text"
      },
      "source": [
        "<a href=\"https://colab.research.google.com/github/UDIT9777/Basic-Prediction-using-Tensorflow/blob/master/Prediction_tensorflow.ipynb\" target=\"_parent\"><img src=\"https://colab.research.google.com/assets/colab-badge.svg\" alt=\"Open In Colab\"/></a>"
      ]
    },
    {
      "cell_type": "markdown",
      "metadata": {
        "id": "F6YTJ39EW8Ce",
        "colab_type": "text"
      },
      "source": [
        "# New Section"
      ]
    },
    {
      "cell_type": "code",
      "metadata": {
        "id": "Dj3Y6KebW9bj",
        "colab_type": "code",
        "colab": {}
      },
      "source": [
        "import tensorflow as tf\n"
      ],
      "execution_count": 2,
      "outputs": []
    },
    {
      "cell_type": "code",
      "metadata": {
        "id": "8W_m2PpcXGOD",
        "colab_type": "code",
        "colab": {}
      },
      "source": [
        "import numpy as np\n",
        "from tensorflow import keras"
      ],
      "execution_count": 3,
      "outputs": []
    },
    {
      "cell_type": "code",
      "metadata": {
        "id": "CyzCCQowXXOe",
        "colab_type": "code",
        "colab": {}
      },
      "source": [
        "model = tf.keras.Sequential([keras.layers.Dense(units=1 ,input_shape=[1])])"
      ],
      "execution_count": 5,
      "outputs": []
    },
    {
      "cell_type": "code",
      "metadata": {
        "id": "pHQNbnuKZTYt",
        "colab_type": "code",
        "colab": {}
      },
      "source": [
        "model.compile(optimizer='sgd', loss='mean_squared_error')"
      ],
      "execution_count": 6,
      "outputs": []
    },
    {
      "cell_type": "code",
      "metadata": {
        "id": "pRBNn89BkoKe",
        "colab_type": "code",
        "colab": {}
      },
      "source": [
        "\n",
        "xs = np.array([-1.0,  0.0, 1.0, 2.0, 3.0, 4.0], dtype=float)\n",
        "ys = np.array([-3.0, -1.0, 1.0, 3.0, 5.0, 7.0], dtype=float)"
      ],
      "execution_count": 7,
      "outputs": []
    },
    {
      "cell_type": "code",
      "metadata": {
        "id": "ASiwMFhqkouE",
        "colab_type": "code",
        "colab": {
          "base_uri": "https://localhost:8080/",
          "height": 1000
        },
        "outputId": "90041089-878f-4772-9cc6-50886eb5ba26"
      },
      "source": [
        "model.fit(xs, ys, epochs=100)"
      ],
      "execution_count": 13,
      "outputs": [
        {
          "output_type": "stream",
          "text": [
            "Epoch 1/100\n",
            "1/1 [==============================] - 0s 1ms/step - loss: 1.6475e-09\n",
            "Epoch 2/100\n",
            "1/1 [==============================] - 0s 1ms/step - loss: 1.6208e-09\n",
            "Epoch 3/100\n",
            "1/1 [==============================] - 0s 3ms/step - loss: 1.5873e-09\n",
            "Epoch 4/100\n",
            "1/1 [==============================] - 0s 1ms/step - loss: 1.5542e-09\n",
            "Epoch 5/100\n",
            "1/1 [==============================] - 0s 1ms/step - loss: 1.5235e-09\n",
            "Epoch 6/100\n",
            "1/1 [==============================] - 0s 1ms/step - loss: 1.4931e-09\n",
            "Epoch 7/100\n",
            "1/1 [==============================] - 0s 935us/step - loss: 1.4594e-09\n",
            "Epoch 8/100\n",
            "1/1 [==============================] - 0s 903us/step - loss: 1.4296e-09\n",
            "Epoch 9/100\n",
            "1/1 [==============================] - 0s 1ms/step - loss: 1.3983e-09\n",
            "Epoch 10/100\n",
            "1/1 [==============================] - 0s 2ms/step - loss: 1.3686e-09\n",
            "Epoch 11/100\n",
            "1/1 [==============================] - 0s 905us/step - loss: 1.3438e-09\n",
            "Epoch 12/100\n",
            "1/1 [==============================] - 0s 903us/step - loss: 1.3161e-09\n",
            "Epoch 13/100\n",
            "1/1 [==============================] - 0s 1ms/step - loss: 1.2894e-09\n",
            "Epoch 14/100\n",
            "1/1 [==============================] - 0s 1ms/step - loss: 1.2655e-09\n",
            "Epoch 15/100\n",
            "1/1 [==============================] - 0s 1ms/step - loss: 1.2444e-09\n",
            "Epoch 16/100\n",
            "1/1 [==============================] - 0s 2ms/step - loss: 1.2161e-09\n",
            "Epoch 17/100\n",
            "1/1 [==============================] - 0s 2ms/step - loss: 1.1906e-09\n",
            "Epoch 18/100\n",
            "1/1 [==============================] - 0s 2ms/step - loss: 1.1676e-09\n",
            "Epoch 19/100\n",
            "1/1 [==============================] - 0s 2ms/step - loss: 1.1417e-09\n",
            "Epoch 20/100\n",
            "1/1 [==============================] - 0s 2ms/step - loss: 1.1169e-09\n",
            "Epoch 21/100\n",
            "1/1 [==============================] - 0s 2ms/step - loss: 1.0947e-09\n",
            "Epoch 22/100\n",
            "1/1 [==============================] - 0s 2ms/step - loss: 1.0771e-09\n",
            "Epoch 23/100\n",
            "1/1 [==============================] - 0s 1ms/step - loss: 1.0574e-09\n",
            "Epoch 24/100\n",
            "1/1 [==============================] - 0s 2ms/step - loss: 1.0333e-09\n",
            "Epoch 25/100\n",
            "1/1 [==============================] - 0s 2ms/step - loss: 1.0162e-09\n",
            "Epoch 26/100\n",
            "1/1 [==============================] - 0s 2ms/step - loss: 9.9278e-10\n",
            "Epoch 27/100\n",
            "1/1 [==============================] - 0s 2ms/step - loss: 9.7488e-10\n",
            "Epoch 28/100\n",
            "1/1 [==============================] - 0s 2ms/step - loss: 9.5515e-10\n",
            "Epoch 29/100\n",
            "1/1 [==============================] - 0s 2ms/step - loss: 9.3766e-10\n",
            "Epoch 30/100\n",
            "1/1 [==============================] - 0s 1ms/step - loss: 9.1501e-10\n",
            "Epoch 31/100\n",
            "1/1 [==============================] - 0s 2ms/step - loss: 8.9788e-10\n",
            "Epoch 32/100\n",
            "1/1 [==============================] - 0s 2ms/step - loss: 8.8088e-10\n",
            "Epoch 33/100\n",
            "1/1 [==============================] - 0s 2ms/step - loss: 8.5897e-10\n",
            "Epoch 34/100\n",
            "1/1 [==============================] - 0s 2ms/step - loss: 8.4217e-10\n",
            "Epoch 35/100\n",
            "1/1 [==============================] - 0s 2ms/step - loss: 8.2751e-10\n",
            "Epoch 36/100\n",
            "1/1 [==============================] - 0s 2ms/step - loss: 8.1198e-10\n",
            "Epoch 37/100\n",
            "1/1 [==============================] - 0s 3ms/step - loss: 7.9661e-10\n",
            "Epoch 38/100\n",
            "1/1 [==============================] - 0s 2ms/step - loss: 7.8237e-10\n",
            "Epoch 39/100\n",
            "1/1 [==============================] - 0s 2ms/step - loss: 7.6637e-10\n",
            "Epoch 40/100\n",
            "1/1 [==============================] - 0s 4ms/step - loss: 7.5139e-10\n",
            "Epoch 41/100\n",
            "1/1 [==============================] - 0s 2ms/step - loss: 7.3660e-10\n",
            "Epoch 42/100\n",
            "1/1 [==============================] - 0s 1ms/step - loss: 7.2105e-10\n",
            "Epoch 43/100\n",
            "1/1 [==============================] - 0s 1ms/step - loss: 7.0750e-10\n",
            "Epoch 44/100\n",
            "1/1 [==============================] - 0s 1ms/step - loss: 6.9314e-10\n",
            "Epoch 45/100\n",
            "1/1 [==============================] - 0s 1ms/step - loss: 6.7894e-10\n",
            "Epoch 46/100\n",
            "1/1 [==============================] - 0s 2ms/step - loss: 6.6580e-10\n",
            "Epoch 47/100\n",
            "1/1 [==============================] - 0s 1ms/step - loss: 6.5105e-10\n",
            "Epoch 48/100\n",
            "1/1 [==============================] - 0s 2ms/step - loss: 6.3725e-10\n",
            "Epoch 49/100\n",
            "1/1 [==============================] - 0s 2ms/step - loss: 6.2363e-10\n",
            "Epoch 50/100\n",
            "1/1 [==============================] - 0s 2ms/step - loss: 6.0934e-10\n",
            "Epoch 51/100\n",
            "1/1 [==============================] - 0s 2ms/step - loss: 6.0180e-10\n",
            "Epoch 52/100\n",
            "1/1 [==============================] - 0s 2ms/step - loss: 5.9007e-10\n",
            "Epoch 53/100\n",
            "1/1 [==============================] - 0s 2ms/step - loss: 5.7600e-10\n",
            "Epoch 54/100\n",
            "1/1 [==============================] - 0s 2ms/step - loss: 5.6867e-10\n",
            "Epoch 55/100\n",
            "1/1 [==============================] - 0s 2ms/step - loss: 5.5809e-10\n",
            "Epoch 56/100\n",
            "1/1 [==============================] - 0s 2ms/step - loss: 5.4440e-10\n",
            "Epoch 57/100\n",
            "1/1 [==============================] - 0s 2ms/step - loss: 5.3323e-10\n",
            "Epoch 58/100\n",
            "1/1 [==============================] - 0s 2ms/step - loss: 5.2310e-10\n",
            "Epoch 59/100\n",
            "1/1 [==============================] - 0s 2ms/step - loss: 5.1454e-10\n",
            "Epoch 60/100\n",
            "1/1 [==============================] - 0s 2ms/step - loss: 5.0368e-10\n",
            "Epoch 61/100\n",
            "1/1 [==============================] - 0s 1ms/step - loss: 4.9084e-10\n",
            "Epoch 62/100\n",
            "1/1 [==============================] - 0s 2ms/step - loss: 4.8407e-10\n",
            "Epoch 63/100\n",
            "1/1 [==============================] - 0s 3ms/step - loss: 4.7432e-10\n",
            "Epoch 64/100\n",
            "1/1 [==============================] - 0s 3ms/step - loss: 4.6177e-10\n",
            "Epoch 65/100\n",
            "1/1 [==============================] - 0s 3ms/step - loss: 4.5148e-10\n",
            "Epoch 66/100\n",
            "1/1 [==============================] - 0s 2ms/step - loss: 4.4081e-10\n",
            "Epoch 67/100\n",
            "1/1 [==============================] - 0s 2ms/step - loss: 4.3440e-10\n",
            "Epoch 68/100\n",
            "1/1 [==============================] - 0s 1ms/step - loss: 4.2442e-10\n",
            "Epoch 69/100\n",
            "1/1 [==============================] - 0s 2ms/step - loss: 4.1280e-10\n",
            "Epoch 70/100\n",
            "1/1 [==============================] - 0s 1ms/step - loss: 4.0659e-10\n",
            "Epoch 71/100\n",
            "1/1 [==============================] - 0s 2ms/step - loss: 3.9766e-10\n",
            "Epoch 72/100\n",
            "1/1 [==============================] - 0s 2ms/step - loss: 3.8626e-10\n",
            "Epoch 73/100\n",
            "1/1 [==============================] - 0s 2ms/step - loss: 3.7685e-10\n",
            "Epoch 74/100\n",
            "1/1 [==============================] - 0s 2ms/step - loss: 3.6853e-10\n",
            "Epoch 75/100\n",
            "1/1 [==============================] - 0s 4ms/step - loss: 3.6028e-10\n",
            "Epoch 76/100\n",
            "1/1 [==============================] - 0s 1ms/step - loss: 3.5548e-10\n",
            "Epoch 77/100\n",
            "1/1 [==============================] - 0s 2ms/step - loss: 3.4612e-10\n",
            "Epoch 78/100\n",
            "1/1 [==============================] - 0s 2ms/step - loss: 3.4036e-10\n",
            "Epoch 79/100\n",
            "1/1 [==============================] - 0s 2ms/step - loss: 3.3505e-10\n",
            "Epoch 80/100\n",
            "1/1 [==============================] - 0s 2ms/step - loss: 3.2940e-10\n",
            "Epoch 81/100\n",
            "1/1 [==============================] - 0s 2ms/step - loss: 3.2037e-10\n",
            "Epoch 82/100\n",
            "1/1 [==============================] - 0s 1ms/step - loss: 3.1488e-10\n",
            "Epoch 83/100\n",
            "1/1 [==============================] - 0s 2ms/step - loss: 3.0973e-10\n",
            "Epoch 84/100\n",
            "1/1 [==============================] - 0s 3ms/step - loss: 3.0159e-10\n",
            "Epoch 85/100\n",
            "1/1 [==============================] - 0s 2ms/step - loss: 2.9661e-10\n",
            "Epoch 86/100\n",
            "1/1 [==============================] - 0s 2ms/step - loss: 2.9127e-10\n",
            "Epoch 87/100\n",
            "1/1 [==============================] - 0s 2ms/step - loss: 2.8281e-10\n",
            "Epoch 88/100\n",
            "1/1 [==============================] - 0s 2ms/step - loss: 2.7762e-10\n",
            "Epoch 89/100\n",
            "1/1 [==============================] - 0s 2ms/step - loss: 2.7262e-10\n",
            "Epoch 90/100\n",
            "1/1 [==============================] - 0s 2ms/step - loss: 2.6762e-10\n",
            "Epoch 91/100\n",
            "1/1 [==============================] - 0s 2ms/step - loss: 2.5941e-10\n",
            "Epoch 92/100\n",
            "1/1 [==============================] - 0s 2ms/step - loss: 2.5456e-10\n",
            "Epoch 93/100\n",
            "1/1 [==============================] - 0s 3ms/step - loss: 2.4985e-10\n",
            "Epoch 94/100\n",
            "1/1 [==============================] - 0s 3ms/step - loss: 2.4271e-10\n",
            "Epoch 95/100\n",
            "1/1 [==============================] - 0s 1ms/step - loss: 2.3722e-10\n",
            "Epoch 96/100\n",
            "1/1 [==============================] - 0s 1ms/step - loss: 2.3347e-10\n",
            "Epoch 97/100\n",
            "1/1 [==============================] - 0s 1ms/step - loss: 2.2571e-10\n",
            "Epoch 98/100\n",
            "1/1 [==============================] - 0s 1ms/step - loss: 2.2116e-10\n",
            "Epoch 99/100\n",
            "1/1 [==============================] - 0s 1ms/step - loss: 2.1718e-10\n",
            "Epoch 100/100\n",
            "1/1 [==============================] - 0s 1ms/step - loss: 2.1237e-10\n"
          ],
          "name": "stdout"
        },
        {
          "output_type": "execute_result",
          "data": {
            "text/plain": [
              "<tensorflow.python.keras.callbacks.History at 0x7ff5b9f31080>"
            ]
          },
          "metadata": {
            "tags": []
          },
          "execution_count": 13
        }
      ]
    },
    {
      "cell_type": "code",
      "metadata": {
        "id": "LWnLUjjNq8m6",
        "colab_type": "code",
        "colab": {
          "base_uri": "https://localhost:8080/",
          "height": 34
        },
        "outputId": "75dc96cc-4159-423e-af22-4886177f075f"
      },
      "source": [
        "print(model.predict([20.0]))"
      ],
      "execution_count": 12,
      "outputs": [
        {
          "output_type": "stream",
          "text": [
            "[[38.999706]]\n"
          ],
          "name": "stdout"
        }
      ]
    },
    {
      "cell_type": "code",
      "metadata": {
        "id": "EdTMarCmrqq9",
        "colab_type": "code",
        "colab": {}
      },
      "source": [
        ""
      ],
      "execution_count": null,
      "outputs": []
    }
  ]
}